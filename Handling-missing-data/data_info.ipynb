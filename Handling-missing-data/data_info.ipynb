{
 "cells": [
  {
   "cell_type": "code",
   "execution_count": 10,
   "id": "eeb3d65d-2c11-4a4f-9a88-4b990a82ecec",
   "metadata": {
    "tags": []
   },
   "outputs": [
    {
     "data": {
      "text/html": [
       "<div>\n",
       "<style scoped>\n",
       "    .dataframe tbody tr th:only-of-type {\n",
       "        vertical-align: middle;\n",
       "    }\n",
       "\n",
       "    .dataframe tbody tr th {\n",
       "        vertical-align: top;\n",
       "    }\n",
       "\n",
       "    .dataframe thead th {\n",
       "        text-align: right;\n",
       "    }\n",
       "</style>\n",
       "<table border=\"1\" class=\"dataframe\">\n",
       "  <thead>\n",
       "    <tr style=\"text-align: right;\">\n",
       "      <th></th>\n",
       "      <th>plasma_CA19_9</th>\n",
       "      <th>LYVE1</th>\n",
       "      <th>CYFRA 21-1</th>\n",
       "      <th>Creatinine</th>\n",
       "      <th>Disease</th>\n",
       "    </tr>\n",
       "  </thead>\n",
       "  <tbody>\n",
       "    <tr>\n",
       "      <th>0</th>\n",
       "      <td>25.3210</td>\n",
       "      <td>0.893219</td>\n",
       "      <td>18.3774</td>\n",
       "      <td>0.095512</td>\n",
       "      <td>Healthy</td>\n",
       "    </tr>\n",
       "    <tr>\n",
       "      <th>1</th>\n",
       "      <td>16.2360</td>\n",
       "      <td>NaN</td>\n",
       "      <td>11.0354</td>\n",
       "      <td>0.659060</td>\n",
       "      <td>Diabetes</td>\n",
       "    </tr>\n",
       "    <tr>\n",
       "      <th>2</th>\n",
       "      <td>7.2643</td>\n",
       "      <td>0.145589</td>\n",
       "      <td>17.3140</td>\n",
       "      <td>0.417295</td>\n",
       "      <td>Thalasse</td>\n",
       "    </tr>\n",
       "    <tr>\n",
       "      <th>3</th>\n",
       "      <td>NaN</td>\n",
       "      <td>0.002805</td>\n",
       "      <td>8.2653</td>\n",
       "      <td>0.490349</td>\n",
       "      <td>Anemia</td>\n",
       "    </tr>\n",
       "    <tr>\n",
       "      <th>4</th>\n",
       "      <td>9.5643</td>\n",
       "      <td>0.000860</td>\n",
       "      <td>13.4328</td>\n",
       "      <td>0.153350</td>\n",
       "      <td>Thalasse</td>\n",
       "    </tr>\n",
       "    <tr>\n",
       "      <th>...</th>\n",
       "      <td>...</td>\n",
       "      <td>...</td>\n",
       "      <td>...</td>\n",
       "      <td>...</td>\n",
       "      <td>...</td>\n",
       "    </tr>\n",
       "    <tr>\n",
       "      <th>4697</th>\n",
       "      <td>5.2630</td>\n",
       "      <td>4.242341</td>\n",
       "      <td>6.2110</td>\n",
       "      <td>0.311568</td>\n",
       "      <td>Diabetes</td>\n",
       "    </tr>\n",
       "    <tr>\n",
       "      <th>4698</th>\n",
       "      <td>7.1490</td>\n",
       "      <td>0.022323</td>\n",
       "      <td>18.1246</td>\n",
       "      <td>0.701914</td>\n",
       "      <td>Thalasse</td>\n",
       "    </tr>\n",
       "    <tr>\n",
       "      <th>4699</th>\n",
       "      <td>6.1128</td>\n",
       "      <td>0.571181</td>\n",
       "      <td>17.6911</td>\n",
       "      <td>0.155871</td>\n",
       "      <td>Anemia</td>\n",
       "    </tr>\n",
       "    <tr>\n",
       "      <th>4700</th>\n",
       "      <td>13.8850</td>\n",
       "      <td>0.011929</td>\n",
       "      <td>17.7863</td>\n",
       "      <td>0.171245</td>\n",
       "      <td>Diabetes</td>\n",
       "    </tr>\n",
       "    <tr>\n",
       "      <th>4701</th>\n",
       "      <td>11.2650</td>\n",
       "      <td>8.160930</td>\n",
       "      <td>19.6569</td>\n",
       "      <td>0.331887</td>\n",
       "      <td>Anemia</td>\n",
       "    </tr>\n",
       "  </tbody>\n",
       "</table>\n",
       "<p>4702 rows × 5 columns</p>\n",
       "</div>"
      ],
      "text/plain": [
       "      plasma_CA19_9     LYVE1  CYFRA 21-1  Creatinine   Disease\n",
       "0           25.3210  0.893219     18.3774    0.095512   Healthy\n",
       "1           16.2360       NaN     11.0354    0.659060  Diabetes\n",
       "2            7.2643  0.145589     17.3140    0.417295  Thalasse\n",
       "3               NaN  0.002805      8.2653    0.490349    Anemia\n",
       "4            9.5643  0.000860     13.4328    0.153350  Thalasse\n",
       "...             ...       ...         ...         ...       ...\n",
       "4697         5.2630  4.242341      6.2110    0.311568  Diabetes\n",
       "4698         7.1490  0.022323     18.1246    0.701914  Thalasse\n",
       "4699         6.1128  0.571181     17.6911    0.155871    Anemia\n",
       "4700        13.8850  0.011929     17.7863    0.171245  Diabetes\n",
       "4701        11.2650  8.160930     19.6569    0.331887    Anemia\n",
       "\n",
       "[4702 rows x 5 columns]"
      ]
     },
     "execution_count": 10,
     "metadata": {},
     "output_type": "execute_result"
    }
   ],
   "source": [
    "import numpy as np\n",
    "import matplotlib.pyplot as plt\n",
    "import pandas as pd\n",
    "df=pd.read_csv('patient_data.csv')\n",
    "df"
   ]
  },
  {
   "cell_type": "code",
   "execution_count": 11,
   "id": "c6177083-50bc-4fc0-8e67-168a8e0b9f89",
   "metadata": {
    "tags": []
   },
   "outputs": [
    {
     "name": "stdout",
     "output_type": "stream",
     "text": [
      "<class 'pandas.core.frame.DataFrame'>\n",
      "RangeIndex: 4702 entries, 0 to 4701\n",
      "Data columns (total 5 columns):\n",
      " #   Column         Non-Null Count  Dtype  \n",
      "---  ------         --------------  -----  \n",
      " 0   plasma_CA19_9  4682 non-null   float64\n",
      " 1   LYVE1          4652 non-null   float64\n",
      " 2   CYFRA 21-1     4700 non-null   float64\n",
      " 3   Creatinine     4702 non-null   float64\n",
      " 4   Disease        4702 non-null   object \n",
      "dtypes: float64(4), object(1)\n",
      "memory usage: 183.8+ KB\n"
     ]
    }
   ],
   "source": [
    "df.info()"
   ]
  },
  {
   "cell_type": "code",
   "execution_count": 12,
   "id": "196b39b6-a5b7-41f6-a410-9a49623611de",
   "metadata": {
    "tags": []
   },
   "outputs": [
    {
     "data": {
      "text/plain": [
       "plasma_CA19_9    20\n",
       "LYVE1            50\n",
       "CYFRA 21-1        2\n",
       "Creatinine        0\n",
       "Disease           0\n",
       "dtype: int64"
      ]
     },
     "execution_count": 12,
     "metadata": {},
     "output_type": "execute_result"
    }
   ],
   "source": [
    "df.isnull().sum()"
   ]
  },
  {
   "cell_type": "code",
   "execution_count": 13,
   "id": "6f64e096-26ae-4591-ba39-917c85793a26",
   "metadata": {
    "tags": []
   },
   "outputs": [
    {
     "data": {
      "text/html": [
       "<div>\n",
       "<style scoped>\n",
       "    .dataframe tbody tr th:only-of-type {\n",
       "        vertical-align: middle;\n",
       "    }\n",
       "\n",
       "    .dataframe tbody tr th {\n",
       "        vertical-align: top;\n",
       "    }\n",
       "\n",
       "    .dataframe thead th {\n",
       "        text-align: right;\n",
       "    }\n",
       "</style>\n",
       "<table border=\"1\" class=\"dataframe\">\n",
       "  <thead>\n",
       "    <tr style=\"text-align: right;\">\n",
       "      <th></th>\n",
       "      <th>plasma_CA19_9</th>\n",
       "      <th>LYVE1</th>\n",
       "      <th>CYFRA 21-1</th>\n",
       "      <th>Creatinine</th>\n",
       "    </tr>\n",
       "  </thead>\n",
       "  <tbody>\n",
       "    <tr>\n",
       "      <th>0</th>\n",
       "      <td>25.3210</td>\n",
       "      <td>0.893219</td>\n",
       "      <td>18.3774</td>\n",
       "      <td>0.095512</td>\n",
       "    </tr>\n",
       "    <tr>\n",
       "      <th>1</th>\n",
       "      <td>16.2360</td>\n",
       "      <td>NaN</td>\n",
       "      <td>11.0354</td>\n",
       "      <td>0.659060</td>\n",
       "    </tr>\n",
       "    <tr>\n",
       "      <th>2</th>\n",
       "      <td>7.2643</td>\n",
       "      <td>0.145589</td>\n",
       "      <td>17.3140</td>\n",
       "      <td>0.417295</td>\n",
       "    </tr>\n",
       "    <tr>\n",
       "      <th>3</th>\n",
       "      <td>NaN</td>\n",
       "      <td>0.002805</td>\n",
       "      <td>8.2653</td>\n",
       "      <td>0.490349</td>\n",
       "    </tr>\n",
       "    <tr>\n",
       "      <th>4</th>\n",
       "      <td>9.5643</td>\n",
       "      <td>0.000860</td>\n",
       "      <td>13.4328</td>\n",
       "      <td>0.153350</td>\n",
       "    </tr>\n",
       "    <tr>\n",
       "      <th>...</th>\n",
       "      <td>...</td>\n",
       "      <td>...</td>\n",
       "      <td>...</td>\n",
       "      <td>...</td>\n",
       "    </tr>\n",
       "    <tr>\n",
       "      <th>4697</th>\n",
       "      <td>5.2630</td>\n",
       "      <td>4.242341</td>\n",
       "      <td>6.2110</td>\n",
       "      <td>0.311568</td>\n",
       "    </tr>\n",
       "    <tr>\n",
       "      <th>4698</th>\n",
       "      <td>7.1490</td>\n",
       "      <td>0.022323</td>\n",
       "      <td>18.1246</td>\n",
       "      <td>0.701914</td>\n",
       "    </tr>\n",
       "    <tr>\n",
       "      <th>4699</th>\n",
       "      <td>6.1128</td>\n",
       "      <td>0.571181</td>\n",
       "      <td>17.6911</td>\n",
       "      <td>0.155871</td>\n",
       "    </tr>\n",
       "    <tr>\n",
       "      <th>4700</th>\n",
       "      <td>13.8850</td>\n",
       "      <td>0.011929</td>\n",
       "      <td>17.7863</td>\n",
       "      <td>0.171245</td>\n",
       "    </tr>\n",
       "    <tr>\n",
       "      <th>4701</th>\n",
       "      <td>11.2650</td>\n",
       "      <td>8.160930</td>\n",
       "      <td>19.6569</td>\n",
       "      <td>0.331887</td>\n",
       "    </tr>\n",
       "  </tbody>\n",
       "</table>\n",
       "<p>4702 rows × 4 columns</p>\n",
       "</div>"
      ],
      "text/plain": [
       "      plasma_CA19_9     LYVE1  CYFRA 21-1  Creatinine\n",
       "0           25.3210  0.893219     18.3774    0.095512\n",
       "1           16.2360       NaN     11.0354    0.659060\n",
       "2            7.2643  0.145589     17.3140    0.417295\n",
       "3               NaN  0.002805      8.2653    0.490349\n",
       "4            9.5643  0.000860     13.4328    0.153350\n",
       "...             ...       ...         ...         ...\n",
       "4697         5.2630  4.242341      6.2110    0.311568\n",
       "4698         7.1490  0.022323     18.1246    0.701914\n",
       "4699         6.1128  0.571181     17.6911    0.155871\n",
       "4700        13.8850  0.011929     17.7863    0.171245\n",
       "4701        11.2650  8.160930     19.6569    0.331887\n",
       "\n",
       "[4702 rows x 4 columns]"
      ]
     },
     "execution_count": 13,
     "metadata": {},
     "output_type": "execute_result"
    }
   ],
   "source": [
    "df_num=df.select_dtypes(include=np.number)\n",
    "df_num"
   ]
  },
  {
   "cell_type": "code",
   "execution_count": 14,
   "id": "3abba419-44ed-461f-98ac-7aef70bf9c1b",
   "metadata": {
    "tags": []
   },
   "outputs": [
    {
     "data": {
      "text/html": [
       "<div>\n",
       "<style scoped>\n",
       "    .dataframe tbody tr th:only-of-type {\n",
       "        vertical-align: middle;\n",
       "    }\n",
       "\n",
       "    .dataframe tbody tr th {\n",
       "        vertical-align: top;\n",
       "    }\n",
       "\n",
       "    .dataframe thead th {\n",
       "        text-align: right;\n",
       "    }\n",
       "</style>\n",
       "<table border=\"1\" class=\"dataframe\">\n",
       "  <thead>\n",
       "    <tr style=\"text-align: right;\">\n",
       "      <th></th>\n",
       "      <th>Disease</th>\n",
       "    </tr>\n",
       "  </thead>\n",
       "  <tbody>\n",
       "    <tr>\n",
       "      <th>0</th>\n",
       "      <td>Healthy</td>\n",
       "    </tr>\n",
       "    <tr>\n",
       "      <th>1</th>\n",
       "      <td>Diabetes</td>\n",
       "    </tr>\n",
       "    <tr>\n",
       "      <th>2</th>\n",
       "      <td>Thalasse</td>\n",
       "    </tr>\n",
       "    <tr>\n",
       "      <th>3</th>\n",
       "      <td>Anemia</td>\n",
       "    </tr>\n",
       "    <tr>\n",
       "      <th>4</th>\n",
       "      <td>Thalasse</td>\n",
       "    </tr>\n",
       "    <tr>\n",
       "      <th>...</th>\n",
       "      <td>...</td>\n",
       "    </tr>\n",
       "    <tr>\n",
       "      <th>4697</th>\n",
       "      <td>Diabetes</td>\n",
       "    </tr>\n",
       "    <tr>\n",
       "      <th>4698</th>\n",
       "      <td>Thalasse</td>\n",
       "    </tr>\n",
       "    <tr>\n",
       "      <th>4699</th>\n",
       "      <td>Anemia</td>\n",
       "    </tr>\n",
       "    <tr>\n",
       "      <th>4700</th>\n",
       "      <td>Diabetes</td>\n",
       "    </tr>\n",
       "    <tr>\n",
       "      <th>4701</th>\n",
       "      <td>Anemia</td>\n",
       "    </tr>\n",
       "  </tbody>\n",
       "</table>\n",
       "<p>4702 rows × 1 columns</p>\n",
       "</div>"
      ],
      "text/plain": [
       "       Disease\n",
       "0      Healthy\n",
       "1     Diabetes\n",
       "2     Thalasse\n",
       "3       Anemia\n",
       "4     Thalasse\n",
       "...        ...\n",
       "4697  Diabetes\n",
       "4698  Thalasse\n",
       "4699    Anemia\n",
       "4700  Diabetes\n",
       "4701    Anemia\n",
       "\n",
       "[4702 rows x 1 columns]"
      ]
     },
     "execution_count": 14,
     "metadata": {},
     "output_type": "execute_result"
    }
   ],
   "source": [
    "df_cat=df.select_dtypes(exclude=np.number)\n",
    "df_cat"
   ]
  },
  {
   "cell_type": "code",
   "execution_count": 15,
   "id": "6a34643b-611f-424a-823f-68c66d16d30d",
   "metadata": {
    "tags": []
   },
   "outputs": [
    {
     "name": "stdout",
     "output_type": "stream",
     "text": [
      "Disease =\n",
      " ['Healthy' 'Diabetes' 'Thalasse' 'Anemia' 'Thromboc']\n"
     ]
    }
   ],
   "source": [
    "df_cat.columns\n",
    "for col in df_cat.columns:\n",
    "    print(col, '=\\n', df_cat[col].unique())"
   ]
  },
  {
   "cell_type": "code",
   "execution_count": 16,
   "id": "0e9eca12-1c89-429c-8c20-2e3463dfedb3",
   "metadata": {
    "tags": []
   },
   "outputs": [
    {
     "data": {
      "text/html": [
       "<div>\n",
       "<style scoped>\n",
       "    .dataframe tbody tr th:only-of-type {\n",
       "        vertical-align: middle;\n",
       "    }\n",
       "\n",
       "    .dataframe tbody tr th {\n",
       "        vertical-align: top;\n",
       "    }\n",
       "\n",
       "    .dataframe thead th {\n",
       "        text-align: right;\n",
       "    }\n",
       "</style>\n",
       "<table border=\"1\" class=\"dataframe\">\n",
       "  <thead>\n",
       "    <tr style=\"text-align: right;\">\n",
       "      <th></th>\n",
       "      <th>plasma_CA19_9</th>\n",
       "      <th>LYVE1</th>\n",
       "      <th>CYFRA 21-1</th>\n",
       "      <th>Creatinine</th>\n",
       "      <th>Disease</th>\n",
       "    </tr>\n",
       "  </thead>\n",
       "  <tbody>\n",
       "    <tr>\n",
       "      <th>0</th>\n",
       "      <td>25.3210</td>\n",
       "      <td>0.893219</td>\n",
       "      <td>18.3774</td>\n",
       "      <td>0.095512</td>\n",
       "      <td>Healthy</td>\n",
       "    </tr>\n",
       "    <tr>\n",
       "      <th>1</th>\n",
       "      <td>16.2360</td>\n",
       "      <td>NaN</td>\n",
       "      <td>11.0354</td>\n",
       "      <td>0.659060</td>\n",
       "      <td>Diabetes</td>\n",
       "    </tr>\n",
       "    <tr>\n",
       "      <th>2</th>\n",
       "      <td>7.2643</td>\n",
       "      <td>0.145589</td>\n",
       "      <td>17.3140</td>\n",
       "      <td>0.417295</td>\n",
       "      <td>Thalasse</td>\n",
       "    </tr>\n",
       "    <tr>\n",
       "      <th>3</th>\n",
       "      <td>NaN</td>\n",
       "      <td>0.002805</td>\n",
       "      <td>8.2653</td>\n",
       "      <td>0.490349</td>\n",
       "      <td>Anemia</td>\n",
       "    </tr>\n",
       "    <tr>\n",
       "      <th>4</th>\n",
       "      <td>9.5643</td>\n",
       "      <td>0.000860</td>\n",
       "      <td>13.4328</td>\n",
       "      <td>0.153350</td>\n",
       "      <td>Thalasse</td>\n",
       "    </tr>\n",
       "  </tbody>\n",
       "</table>\n",
       "</div>"
      ],
      "text/plain": [
       "   plasma_CA19_9     LYVE1  CYFRA 21-1  Creatinine   Disease\n",
       "0        25.3210  0.893219     18.3774    0.095512   Healthy\n",
       "1        16.2360       NaN     11.0354    0.659060  Diabetes\n",
       "2         7.2643  0.145589     17.3140    0.417295  Thalasse\n",
       "3            NaN  0.002805      8.2653    0.490349    Anemia\n",
       "4         9.5643  0.000860     13.4328    0.153350  Thalasse"
      ]
     },
     "execution_count": 16,
     "metadata": {},
     "output_type": "execute_result"
    }
   ],
   "source": [
    "df.head()"
   ]
  },
  {
   "cell_type": "code",
   "execution_count": 17,
   "id": "a56bc887-7c6b-4b67-bca1-c9ec9f0b4b68",
   "metadata": {
    "tags": []
   },
   "outputs": [
    {
     "data": {
      "text/plain": [
       "(4702, 5)"
      ]
     },
     "execution_count": 17,
     "metadata": {},
     "output_type": "execute_result"
    }
   ],
   "source": [
    "df.shape"
   ]
  },
  {
   "cell_type": "code",
   "execution_count": 19,
   "id": "ad08f23e-a40a-480b-a912-12c235b969f2",
   "metadata": {
    "tags": []
   },
   "outputs": [
    {
     "name": "stdout",
     "output_type": "stream",
     "text": [
      "Original DataFrame:\n",
      "   plasma_CA19_9     LYVE1  CYFRA 21-1  Creatinine   Disease\n",
      "0        25.3210  0.893219     18.3774    0.095512   Healthy\n",
      "1        16.2360       NaN     11.0354    0.659060  Diabetes\n",
      "2         7.2643  0.145589     17.3140    0.417295  Thalasse\n",
      "3            NaN  0.002805      8.2653    0.490349    Anemia\n",
      "4         9.5643  0.000860     13.4328    0.153350  Thalasse\n",
      "\n",
      "Filtered DataFrame (only Diabetes):\n",
      "      plasma_CA19_9     LYVE1  CYFRA 21-1  Creatinine   Disease\n",
      "1           16.2360       NaN     11.0354    0.659060  Diabetes\n",
      "5            3.6470  0.003393     19.7934    0.128124  Diabetes\n",
      "11          23.6410  0.860337     16.3842    0.882164  Diabetes\n",
      "13           7.6500  1.516773     16.8321    0.755205  Diabetes\n",
      "17           4.2650  0.003212     10.7719    0.425296  Diabetes\n",
      "...             ...       ...         ...         ...       ...\n",
      "4687        10.4300  0.000129     14.5049    0.041583  Diabetes\n",
      "4692        26.2300  0.091370     18.2275    0.977656  Diabetes\n",
      "4693        35.2646  1.858508     16.0422    0.747632  Diabetes\n",
      "4697         5.2630  4.242341      6.2110    0.311568  Diabetes\n",
      "4700        13.8850  0.011929     17.7863    0.171245  Diabetes\n",
      "\n",
      "[1080 rows x 5 columns]\n"
     ]
    }
   ],
   "source": [
    "import numpy as np\n",
    "import matplotlib.pyplot as plt\n",
    "import pandas as pd\n",
    "\n",
    "# Read the CSV file into a DataFrame\n",
    "df = pd.read_csv('patient_data.csv')\n",
    "\n",
    "# Display the first few rows of the DataFrame\n",
    "print(\"Original DataFrame:\")\n",
    "print(df.head())\n",
    "\n",
    "# Create a filtered DataFrame for rows where Disease is 'Diabetes'\n",
    "df_diabetes = df[df['Disease'] == 'Diabetes']\n",
    "\n",
    "# Display the filtered DataFrame\n",
    "print(\"\\nFiltered DataFrame (only Diabetes):\")\n",
    "print(df_diabetes)\n",
    "\n",
    "# Optional: Save the filtered DataFrame to a new CSV file\n",
    "df_diabetes.to_csv('diabetes_patients.csv', index=False)\n"
   ]
  },
  {
   "cell_type": "code",
   "execution_count": null,
   "id": "60d3e1e7-ffbb-4ea9-afc7-70bccaf9cb2f",
   "metadata": {},
   "outputs": [],
   "source": []
  },
  {
   "cell_type": "code",
   "execution_count": null,
   "id": "a4286bda-3ba2-431e-83c1-c142540e5a88",
   "metadata": {},
   "outputs": [],
   "source": []
  }
 ],
 "metadata": {
  "kernelspec": {
   "display_name": "Python 3 (ipykernel)",
   "language": "python",
   "name": "python3"
  },
  "language_info": {
   "codemirror_mode": {
    "name": "ipython",
    "version": 3
   },
   "file_extension": ".py",
   "mimetype": "text/x-python",
   "name": "python",
   "nbconvert_exporter": "python",
   "pygments_lexer": "ipython3",
   "version": "3.11.5"
  }
 },
 "nbformat": 4,
 "nbformat_minor": 5
}
